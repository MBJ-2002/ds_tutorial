{
 "cells": [
  {
   "cell_type": "code",
   "execution_count": 1,
   "id": "d28c930c",
   "metadata": {},
   "outputs": [
    {
     "data": {
      "text/plain": [
       "<sqlite3.Connection at 0x21c7743ab60>"
      ]
     },
     "execution_count": 1,
     "metadata": {},
     "output_type": "execute_result"
    }
   ],
   "source": [
    "import sqlite3\n",
    "\n",
    "connection = sqlite3.connect('test.db')\n",
    "connection"
   ]
  },
  {
   "cell_type": "code",
   "execution_count": 2,
   "id": "391d86ed",
   "metadata": {},
   "outputs": [],
   "source": [
    "cursor = connection.cursor()"
   ]
  },
  {
   "cell_type": "code",
   "execution_count": 3,
   "id": "78a40cc9",
   "metadata": {},
   "outputs": [],
   "source": [
    "cursor.execute('''\n",
    "CREATE TABLE IF NOT EXISTS employees(\n",
    "  employee_id INT PRIMARY KEY,\n",
    "  first_name VARCHAR(255),\n",
    "  last_name VARCHAR(255),\n",
    "  email VARCHAR(255),\n",
    "  phone_number VARCHAR(20),\n",
    "  department_id INT\n",
    ")''')\n",
    "connection.commit()"
   ]
  },
  {
   "cell_type": "code",
   "execution_count": 4,
   "id": "6bafef36",
   "metadata": {},
   "outputs": [],
   "source": [
    "cursor.execute('''\n",
    "CREATE TABLE IF NOT EXISTS departments(\n",
    "  department_id INT PRIMARY KEY,\n",
    "  department_name VARCHAR(100),\n",
    "  location VARCHAR(100),\n",
    "  manager_id INT\n",
    "\n",
    ")''')\n",
    "connection.commit()"
   ]
  },
  {
   "cell_type": "code",
   "execution_count": 5,
   "id": "f7b5dfa6",
   "metadata": {},
   "outputs": [],
   "source": [
    "def insert_employee(employee_id, first_name, last_name, email, phone_number, department_id):\n",
    "    cursor.execute(f'''\n",
    "        INSERT INTO employees(employee_id, first_name, last_name, email, phone_number, department_id)\n",
    "            VALUES ('{employee_id}', '{first_name}', '{last_name}', '{email}', '{phone_number}', '{department_id}')\n",
    "    ''')"
   ]
  },
  {
   "cell_type": "code",
   "execution_count": 6,
   "id": "ab765180",
   "metadata": {},
   "outputs": [],
   "source": [
    "def insert_department(department_id, department_name, location, manager_id):\n",
    "    cursor.execute(f'''\n",
    "        INSERT INTO departments(department_id, department_name, location, manager_id)\n",
    "            VALUES ('{department_id}', '{department_name}', '{location}', '{manager_id}')\n",
    "    ''')\n"
   ]
  },
  {
   "cell_type": "code",
   "execution_count": 7,
   "id": "c35decc9",
   "metadata": {},
   "outputs": [],
   "source": [
    "def show_all(table_name):\n",
    "    cursor.execute(f'''\n",
    "        SELECT * FROM {table_name}\n",
    "    ''')\n",
    "    rows = cursor.fetchall()\n",
    "    for row in rows:\n",
    "        print(row)"
   ]
  },
  {
   "cell_type": "code",
   "execution_count": 8,
   "id": "78c60d32",
   "metadata": {},
   "outputs": [],
   "source": [
    "# To Put Five Values in both tables"
   ]
  },
  {
   "cell_type": "code",
   "execution_count": 9,
   "id": "c89ca32b",
   "metadata": {},
   "outputs": [],
   "source": [
    "insert_employee(employee_id=1001,first_name='Maharshi', last_name='Joshi', email='xyz@gmail.com',phone_number='0123456789', department_id='11')\n",
    "insert_employee(employee_id=1002,first_name='abc', last_name='xyz', email='test@gmail.com',phone_number='98792879872', department_id='12')\n",
    "insert_employee(employee_id=1003,first_name='def', last_name='uvw', email='def@gmail.com',phone_number='16542988927', department_id='11')\n",
    "insert_employee(employee_id=1004,first_name='ghi', last_name='rst', email='ghi@gmail.com',phone_number='93275337699', department_id='13')\n",
    "insert_employee(employee_id=1005,first_name='jkl', last_name='opq', email='opq@gmail.com',phone_number='39050239033', department_id='14')"
   ]
  },
  {
   "cell_type": "code",
   "execution_count": 10,
   "id": "9f6f9ed2",
   "metadata": {},
   "outputs": [],
   "source": [
    "insert_department(department_id='11', department_name='Mobile Developers', location='Pune' , manager_id='100')\n",
    "insert_department(department_id='12', department_name='DevOps', location='Delhi' , manager_id='102')\n",
    "insert_department(department_id='13', department_name='Cloud', location='Bengaluru' , manager_id='104')\n",
    "insert_department(department_id='14', department_name='QA', location='Ahemdabad' , manager_id='106')\n",
    "insert_department(department_id='15', department_name='Business Development', location='Mumbai' , manager_id='108')"
   ]
  },
  {
   "cell_type": "code",
   "execution_count": 11,
   "id": "e64df399",
   "metadata": {},
   "outputs": [
    {
     "name": "stdout",
     "output_type": "stream",
     "text": [
      "(1001, 'Maharshi', 'Joshi', 'xyz@gmail.com', '0123456789', 11)\n",
      "(1002, 'abc', 'xyz', 'test@gmail.com', '98792879872', 12)\n",
      "(1003, 'def', 'uvw', 'def@gmail.com', '16542988927', 11)\n",
      "(1004, 'ghi', 'rst', 'ghi@gmail.com', '93275337699', 13)\n",
      "(1005, 'jkl', 'opq', 'opq@gmail.com', '39050239033', 14)\n"
     ]
    }
   ],
   "source": [
    "show_all('employees')"
   ]
  },
  {
   "cell_type": "code",
   "execution_count": 13,
   "id": "31b62e62",
   "metadata": {},
   "outputs": [
    {
     "name": "stdout",
     "output_type": "stream",
     "text": [
      "(11, 'Mobile Developers', 'Pune', 100)\n",
      "(12, 'DevOps', 'Delhi', 102)\n",
      "(13, 'Cloud', 'Bengaluru', 104)\n",
      "(14, 'QA', 'Ahemdabad', 106)\n",
      "(15, 'Business Development', 'Mumbai', 108)\n"
     ]
    }
   ],
   "source": [
    "show_all('departments')"
   ]
  },
  {
   "cell_type": "code",
   "execution_count": 17,
   "id": "807c6461",
   "metadata": {},
   "outputs": [
    {
     "name": "stdout",
     "output_type": "stream",
     "text": [
      "(1002, 'abc', 'xyz', 'test@gmail.com', '98792879872', 12)\n"
     ]
    }
   ],
   "source": [
    "#apply condition where the manager id should be 102 , who is the employee\n",
    "cursor.execute('''\n",
    "    SELECT * FROM employees WHERE department_id = (SELECT department_id FROM departments WHERE manager_id = 102)\n",
    "''')\n",
    "rows = cursor.fetchall()\n",
    "for row in rows:\n",
    "    print(row)"
   ]
  },
  {
   "cell_type": "code",
   "execution_count": 18,
   "id": "b62aaedb",
   "metadata": {},
   "outputs": [
    {
     "name": "stdout",
     "output_type": "stream",
     "text": [
      "('Maharshi',)\n",
      "('def',)\n"
     ]
    }
   ],
   "source": [
    "#apply condition for the data based on employeed_id\n",
    "cursor.execute('''\n",
    "        SELECT first_name FROM employees WHERE department_id = 11\n",
    "    ''')\n",
    "rows = cursor.fetchall()\n",
    "for row in rows:\n",
    "    print(row)"
   ]
  },
  {
   "cell_type": "code",
   "execution_count": null,
   "id": "fd9de50a",
   "metadata": {},
   "outputs": [],
   "source": [
    "#check from any one location which employee is present\n",
    "\n"
   ]
  },
  {
   "cell_type": "code",
   "execution_count": null,
   "id": "365f1bac",
   "metadata": {},
   "outputs": [],
   "source": [
    "#ascending order by default after that #descending order"
   ]
  }
 ],
 "metadata": {
  "kernelspec": {
   "display_name": "Python 3",
   "language": "python",
   "name": "python3"
  },
  "language_info": {
   "codemirror_mode": {
    "name": "ipython",
    "version": 3
   },
   "file_extension": ".py",
   "mimetype": "text/x-python",
   "name": "python",
   "nbconvert_exporter": "python",
   "pygments_lexer": "ipython3",
   "version": "3.12.5"
  }
 },
 "nbformat": 4,
 "nbformat_minor": 5
}
