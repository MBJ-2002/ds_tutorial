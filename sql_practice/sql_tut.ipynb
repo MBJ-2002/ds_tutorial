{
 "cells": [
  {
   "cell_type": "code",
   "execution_count": null,
   "id": "d28c930c",
   "metadata": {},
   "outputs": [],
   "source": [
    "import sqlite3\n",
    "\n",
    "connection = sqlite3.connect('test.db')\n",
    "connection"
   ]
  }
 ],
 "metadata": {
  "language_info": {
   "name": "python"
  }
 },
 "nbformat": 4,
 "nbformat_minor": 5
}
